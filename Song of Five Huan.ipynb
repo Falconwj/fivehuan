{
 "cells": [
  {
   "cell_type": "markdown",
   "metadata": {
    "slideshow": {
     "slide_type": "slide"
    }
   },
   "source": [
    "# 五环之歌的python实现"
   ]
  },
  {
   "cell_type": "markdown",
   "metadata": {
    "slideshow": {
     "slide_type": "slide"
    }
   },
   "source": [
    "### 5环之歌\n",
    "#### 啊~5~环，你比4环多1环\n",
    "#### 啊~5~环，你比6环少1环\n",
    "#### 如果有一天修了7环怎么办？\n",
    "#### 你比5环多2环"
   ]
  },
  {
   "cell_type": "code",
   "execution_count": 12,
   "metadata": {
    "collapsed": false,
    "scrolled": true,
    "slideshow": {
     "slide_type": "slide"
    }
   },
   "outputs": [
    {
     "name": "stdout",
     "output_type": "stream",
     "text": [
      "啊~5~环，你比4环多1环\n",
      "啊~5~环，你比6环少1环\n",
      "如果有一天修了7环怎么办？\n",
      "你比5环多2环\n"
     ]
    }
   ],
   "source": [
    "# coding=utf-8\n",
    "# Python 3.x\n",
    "\n",
    "road_huan = 7\n",
    "for road in range(4, road_huan+1):\n",
    "    if road < 5:\n",
    "        print(\"啊~5~环，你比{0}环多{1}环\".format(road,5-road))\n",
    "    elif road == 5:\n",
    "        continue\n",
    "    elif road == 6:\n",
    "        print(\"啊~5~环，你比{0}环少{1}环\".format(road,road-5))\n",
    "    else:\n",
    "        print(\"如果有一天修了{0}环怎么办？\\n你比5环多{1}环\".format(road,road-5))"
   ]
  }
 ],
 "metadata": {
  "celltoolbar": "Slideshow",
  "kernelspec": {
   "display_name": "Python 3",
   "language": "python",
   "name": "python3"
  },
  "language_info": {
   "codemirror_mode": {
    "name": "ipython",
    "version": 3
   },
   "file_extension": ".py",
   "mimetype": "text/x-python",
   "name": "python",
   "nbconvert_exporter": "python",
   "pygments_lexer": "ipython3",
   "version": "3.5.1"
  }
 },
 "nbformat": 4,
 "nbformat_minor": 0
}
